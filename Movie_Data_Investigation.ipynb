{
 "cells": [
  {
   "cell_type": "markdown",
   "id": "25b83a4f",
   "metadata": {},
   "source": [
    " \n",
    "\n",
    "# Project: Investigate a Dataset - [Dataset - Movie Dataset]\n",
    "\n",
    "## Table of Contents\n",
    "<ul>\n",
    "<li><a href=\"#intro\">Introduction</a></li>\n",
    "<li><a href=\"#wrangling\">Data Wrangling</a></li>\n",
    "<li><a href=\"#eda\">Exploratory Data Analysis</a></li>\n",
    "<li><a href=\"#conclusions\">Conclusions</a></li>\n",
    "</ul>"
   ]
  },
  {
   "cell_type": "markdown",
   "id": "1dd3f30f",
   "metadata": {},
   "source": [
    "### Introduction"
   ]
  },
  {
   "cell_type": "markdown",
   "id": "85f41f8e",
   "metadata": {},
   "source": [
    "Movie Database (TMDb) used to perform analysis which contain information about 10866 movies. It contains 21 rows with all movie related data as shown below:"
   ]
  },
  {
   "cell_type": "markdown",
   "id": "f34fba65",
   "metadata": {},
   "source": [
    "Need to import the important packages which we are going to use:-\n",
    "\n",
    "**Numpy** - Support for large, multi-dimensional arrays <br/>\n",
    "**Pandas** - Manipulating table data <br/>\n",
    "**Matplotlib** - Matplotlib is a plotting library <br/>\n",
    "**CSV** - To import CSV file"
   ]
  },
  {
   "cell_type": "code",
   "execution_count": 186,
   "id": "ddb1726c",
   "metadata": {},
   "outputs": [
    {
     "data": {
      "text/html": [
       "<div>\n",
       "<style scoped>\n",
       "    .dataframe tbody tr th:only-of-type {\n",
       "        vertical-align: middle;\n",
       "    }\n",
       "\n",
       "    .dataframe tbody tr th {\n",
       "        vertical-align: top;\n",
       "    }\n",
       "\n",
       "    .dataframe thead th {\n",
       "        text-align: right;\n",
       "    }\n",
       "</style>\n",
       "<table border=\"1\" class=\"dataframe\">\n",
       "  <thead>\n",
       "    <tr style=\"text-align: right;\">\n",
       "      <th></th>\n",
       "      <th>id</th>\n",
       "      <th>imdb_id</th>\n",
       "      <th>popularity</th>\n",
       "      <th>budget</th>\n",
       "      <th>revenue</th>\n",
       "      <th>original_title</th>\n",
       "      <th>cast</th>\n",
       "      <th>homepage</th>\n",
       "      <th>director</th>\n",
       "      <th>tagline</th>\n",
       "      <th>...</th>\n",
       "      <th>overview</th>\n",
       "      <th>runtime</th>\n",
       "      <th>genres</th>\n",
       "      <th>production_companies</th>\n",
       "      <th>release_date</th>\n",
       "      <th>vote_count</th>\n",
       "      <th>vote_average</th>\n",
       "      <th>release_year</th>\n",
       "      <th>budget_adj</th>\n",
       "      <th>revenue_adj</th>\n",
       "    </tr>\n",
       "  </thead>\n",
       "  <tbody>\n",
       "    <tr>\n",
       "      <th>0</th>\n",
       "      <td>135397</td>\n",
       "      <td>tt0369610</td>\n",
       "      <td>32.985763</td>\n",
       "      <td>150000000</td>\n",
       "      <td>1513528810</td>\n",
       "      <td>Jurassic World</td>\n",
       "      <td>Chris Pratt|Bryce Dallas Howard|Irrfan Khan|Vi...</td>\n",
       "      <td>http://www.jurassicworld.com/</td>\n",
       "      <td>Colin Trevorrow</td>\n",
       "      <td>The park is open.</td>\n",
       "      <td>...</td>\n",
       "      <td>Twenty-two years after the events of Jurassic ...</td>\n",
       "      <td>124</td>\n",
       "      <td>Action|Adventure|Science Fiction|Thriller</td>\n",
       "      <td>Universal Studios|Amblin Entertainment|Legenda...</td>\n",
       "      <td>6/9/15</td>\n",
       "      <td>5562</td>\n",
       "      <td>6.5</td>\n",
       "      <td>2015</td>\n",
       "      <td>1.379999e+08</td>\n",
       "      <td>1.392446e+09</td>\n",
       "    </tr>\n",
       "    <tr>\n",
       "      <th>1</th>\n",
       "      <td>76341</td>\n",
       "      <td>tt1392190</td>\n",
       "      <td>28.419936</td>\n",
       "      <td>150000000</td>\n",
       "      <td>378436354</td>\n",
       "      <td>Mad Max: Fury Road</td>\n",
       "      <td>Tom Hardy|Charlize Theron|Hugh Keays-Byrne|Nic...</td>\n",
       "      <td>http://www.madmaxmovie.com/</td>\n",
       "      <td>George Miller</td>\n",
       "      <td>What a Lovely Day.</td>\n",
       "      <td>...</td>\n",
       "      <td>An apocalyptic story set in the furthest reach...</td>\n",
       "      <td>120</td>\n",
       "      <td>Action|Adventure|Science Fiction|Thriller</td>\n",
       "      <td>Village Roadshow Pictures|Kennedy Miller Produ...</td>\n",
       "      <td>5/13/15</td>\n",
       "      <td>6185</td>\n",
       "      <td>7.1</td>\n",
       "      <td>2015</td>\n",
       "      <td>1.379999e+08</td>\n",
       "      <td>3.481613e+08</td>\n",
       "    </tr>\n",
       "    <tr>\n",
       "      <th>2</th>\n",
       "      <td>262500</td>\n",
       "      <td>tt2908446</td>\n",
       "      <td>13.112507</td>\n",
       "      <td>110000000</td>\n",
       "      <td>295238201</td>\n",
       "      <td>Insurgent</td>\n",
       "      <td>Shailene Woodley|Theo James|Kate Winslet|Ansel...</td>\n",
       "      <td>http://www.thedivergentseries.movie/#insurgent</td>\n",
       "      <td>Robert Schwentke</td>\n",
       "      <td>One Choice Can Destroy You</td>\n",
       "      <td>...</td>\n",
       "      <td>Beatrice Prior must confront her inner demons ...</td>\n",
       "      <td>119</td>\n",
       "      <td>Adventure|Science Fiction|Thriller</td>\n",
       "      <td>Summit Entertainment|Mandeville Films|Red Wago...</td>\n",
       "      <td>3/18/15</td>\n",
       "      <td>2480</td>\n",
       "      <td>6.3</td>\n",
       "      <td>2015</td>\n",
       "      <td>1.012000e+08</td>\n",
       "      <td>2.716190e+08</td>\n",
       "    </tr>\n",
       "    <tr>\n",
       "      <th>3</th>\n",
       "      <td>140607</td>\n",
       "      <td>tt2488496</td>\n",
       "      <td>11.173104</td>\n",
       "      <td>200000000</td>\n",
       "      <td>2068178225</td>\n",
       "      <td>Star Wars: The Force Awakens</td>\n",
       "      <td>Harrison Ford|Mark Hamill|Carrie Fisher|Adam D...</td>\n",
       "      <td>http://www.starwars.com/films/star-wars-episod...</td>\n",
       "      <td>J.J. Abrams</td>\n",
       "      <td>Every generation has a story.</td>\n",
       "      <td>...</td>\n",
       "      <td>Thirty years after defeating the Galactic Empi...</td>\n",
       "      <td>136</td>\n",
       "      <td>Action|Adventure|Science Fiction|Fantasy</td>\n",
       "      <td>Lucasfilm|Truenorth Productions|Bad Robot</td>\n",
       "      <td>12/15/15</td>\n",
       "      <td>5292</td>\n",
       "      <td>7.5</td>\n",
       "      <td>2015</td>\n",
       "      <td>1.839999e+08</td>\n",
       "      <td>1.902723e+09</td>\n",
       "    </tr>\n",
       "    <tr>\n",
       "      <th>4</th>\n",
       "      <td>168259</td>\n",
       "      <td>tt2820852</td>\n",
       "      <td>9.335014</td>\n",
       "      <td>190000000</td>\n",
       "      <td>1506249360</td>\n",
       "      <td>Furious 7</td>\n",
       "      <td>Vin Diesel|Paul Walker|Jason Statham|Michelle ...</td>\n",
       "      <td>http://www.furious7.com/</td>\n",
       "      <td>James Wan</td>\n",
       "      <td>Vengeance Hits Home</td>\n",
       "      <td>...</td>\n",
       "      <td>Deckard Shaw seeks revenge against Dominic Tor...</td>\n",
       "      <td>137</td>\n",
       "      <td>Action|Crime|Thriller</td>\n",
       "      <td>Universal Pictures|Original Film|Media Rights ...</td>\n",
       "      <td>4/1/15</td>\n",
       "      <td>2947</td>\n",
       "      <td>7.3</td>\n",
       "      <td>2015</td>\n",
       "      <td>1.747999e+08</td>\n",
       "      <td>1.385749e+09</td>\n",
       "    </tr>\n",
       "  </tbody>\n",
       "</table>\n",
       "<p>5 rows × 21 columns</p>\n",
       "</div>"
      ],
      "text/plain": [
       "       id    imdb_id  popularity     budget     revenue  \\\n",
       "0  135397  tt0369610   32.985763  150000000  1513528810   \n",
       "1   76341  tt1392190   28.419936  150000000   378436354   \n",
       "2  262500  tt2908446   13.112507  110000000   295238201   \n",
       "3  140607  tt2488496   11.173104  200000000  2068178225   \n",
       "4  168259  tt2820852    9.335014  190000000  1506249360   \n",
       "\n",
       "                 original_title  \\\n",
       "0                Jurassic World   \n",
       "1            Mad Max: Fury Road   \n",
       "2                     Insurgent   \n",
       "3  Star Wars: The Force Awakens   \n",
       "4                     Furious 7   \n",
       "\n",
       "                                                cast  \\\n",
       "0  Chris Pratt|Bryce Dallas Howard|Irrfan Khan|Vi...   \n",
       "1  Tom Hardy|Charlize Theron|Hugh Keays-Byrne|Nic...   \n",
       "2  Shailene Woodley|Theo James|Kate Winslet|Ansel...   \n",
       "3  Harrison Ford|Mark Hamill|Carrie Fisher|Adam D...   \n",
       "4  Vin Diesel|Paul Walker|Jason Statham|Michelle ...   \n",
       "\n",
       "                                            homepage          director  \\\n",
       "0                      http://www.jurassicworld.com/   Colin Trevorrow   \n",
       "1                        http://www.madmaxmovie.com/     George Miller   \n",
       "2     http://www.thedivergentseries.movie/#insurgent  Robert Schwentke   \n",
       "3  http://www.starwars.com/films/star-wars-episod...       J.J. Abrams   \n",
       "4                           http://www.furious7.com/         James Wan   \n",
       "\n",
       "                         tagline  ...  \\\n",
       "0              The park is open.  ...   \n",
       "1             What a Lovely Day.  ...   \n",
       "2     One Choice Can Destroy You  ...   \n",
       "3  Every generation has a story.  ...   \n",
       "4            Vengeance Hits Home  ...   \n",
       "\n",
       "                                            overview runtime  \\\n",
       "0  Twenty-two years after the events of Jurassic ...     124   \n",
       "1  An apocalyptic story set in the furthest reach...     120   \n",
       "2  Beatrice Prior must confront her inner demons ...     119   \n",
       "3  Thirty years after defeating the Galactic Empi...     136   \n",
       "4  Deckard Shaw seeks revenge against Dominic Tor...     137   \n",
       "\n",
       "                                      genres  \\\n",
       "0  Action|Adventure|Science Fiction|Thriller   \n",
       "1  Action|Adventure|Science Fiction|Thriller   \n",
       "2         Adventure|Science Fiction|Thriller   \n",
       "3   Action|Adventure|Science Fiction|Fantasy   \n",
       "4                      Action|Crime|Thriller   \n",
       "\n",
       "                                production_companies release_date vote_count  \\\n",
       "0  Universal Studios|Amblin Entertainment|Legenda...       6/9/15       5562   \n",
       "1  Village Roadshow Pictures|Kennedy Miller Produ...      5/13/15       6185   \n",
       "2  Summit Entertainment|Mandeville Films|Red Wago...      3/18/15       2480   \n",
       "3          Lucasfilm|Truenorth Productions|Bad Robot     12/15/15       5292   \n",
       "4  Universal Pictures|Original Film|Media Rights ...       4/1/15       2947   \n",
       "\n",
       "   vote_average  release_year    budget_adj   revenue_adj  \n",
       "0           6.5          2015  1.379999e+08  1.392446e+09  \n",
       "1           7.1          2015  1.379999e+08  3.481613e+08  \n",
       "2           6.3          2015  1.012000e+08  2.716190e+08  \n",
       "3           7.5          2015  1.839999e+08  1.902723e+09  \n",
       "4           7.3          2015  1.747999e+08  1.385749e+09  \n",
       "\n",
       "[5 rows x 21 columns]"
      ]
     },
     "execution_count": 186,
     "metadata": {},
     "output_type": "execute_result"
    }
   ],
   "source": [
    "import pandas as pd  \n",
    "import numpy as np  \n",
    "import csv \n",
    "import matplotlib.pyplot as plt\n",
    "import seaborn as sns\n",
    "\n",
    "# Will use for visualtization\n",
    "%matplotlib inline\n",
    "\n",
    "Data = pd.read_csv('tmdb-movies.csv')\n",
    "\n",
    "# Will able to see only first 5 rows\n",
    "Data.head()"
   ]
  },
  {
   "cell_type": "markdown",
   "id": "e0eb3564",
   "metadata": {},
   "source": [
    "## Dataset Description"
   ]
  },
  {
   "cell_type": "markdown",
   "id": "372b20d2",
   "metadata": {},
   "source": [
    "**Observation:** Dataset contains movie information.\n",
    "\n",
    "**Columns:**\n",
    "id - Unique ID<br/>\n",
    "popularity - Numeric value which shows popularity<br/>\n",
    "budget - Budget of movie<br/>\n",
    "revenue - Total Moive revenue<br/>\n",
    "original_title - Movie title<br/>\n",
    "cast - lead and supporting actors<br/>\n",
    "homepage - ink to the movie<br/>\n",
    "director - Movie Director name<br/>\n",
    "tagline - Movie tagline<br/>\n",
    "overview - Description of the full movie.<br/>\n",
    "runtime - Runtime of the movie in minutes.<br/>\n",
    "genre - Genre of the movie Friction, Drama, Comedy etc<br/>\n",
    "production_companies - Name of production company<br/>\n",
    "release_date - Movie released date<br/>\n",
    "vote_count - Count of votes<br/>\n",
    "vote_average - average vote recieved.<br/>\n",
    "release_year - Movie release year.<br/>\n",
    "budget_adj- Budget of the associated Movie<br/>\n",
    "revenue_adj- Revenue of the associated movie<br/>"
   ]
  },
  {
   "cell_type": "markdown",
   "id": "09dd55c4",
   "metadata": {},
   "source": [
    "**Data Details:**\n",
    "\n",
    "Number of Rows = 10866<br/>\n",
    "Number of Columns = 21\n"
   ]
  },
  {
   "cell_type": "markdown",
   "id": "34218c25",
   "metadata": {},
   "source": [
    "### Question that can analyised \n",
    "> Question 1: Top 10 movies which has earned highest profit? <br/>\n",
    "> Question 2: Top 10 movies with highest revenue? <br/>\n",
    "> Question 3: Top 10 movies with highest Budget? <br/>\n",
    "> Question 4: Which movie has highest profit for all years? <br/>\n",
    "> Question 5: Which movie has highest budget for all years? <br/>\n",
    "> Question 6: Average runtime? <br/>\n",
    "> Question 7: Average Budget? <br/>\n",
    "> Question 8: Average Revenue? <br/>\n",
    "> Question 9: Maximum revenue movie data?<br/>\n",
    "> Question 10: Find top and buttom casts, directors and genres according to movie? <br/>\n",
    "> Question 11: Popularity and revenue are co-related or not?"
   ]
  },
  {
   "cell_type": "markdown",
   "id": "13243b65",
   "metadata": {},
   "source": [
    "### Data Wrangling"
   ]
  },
  {
   "cell_type": "code",
   "execution_count": 187,
   "id": "fafd5a83",
   "metadata": {},
   "outputs": [
    {
     "name": "stdout",
     "output_type": "stream",
     "text": [
      "<class 'pandas.core.frame.DataFrame'>\n",
      "RangeIndex: 10866 entries, 0 to 10865\n",
      "Data columns (total 21 columns):\n",
      " #   Column                Non-Null Count  Dtype  \n",
      "---  ------                --------------  -----  \n",
      " 0   id                    10866 non-null  int64  \n",
      " 1   imdb_id               10856 non-null  object \n",
      " 2   popularity            10866 non-null  float64\n",
      " 3   budget                10866 non-null  int64  \n",
      " 4   revenue               10866 non-null  int64  \n",
      " 5   original_title        10866 non-null  object \n",
      " 6   cast                  10790 non-null  object \n",
      " 7   homepage              2936 non-null   object \n",
      " 8   director              10822 non-null  object \n",
      " 9   tagline               8042 non-null   object \n",
      " 10  keywords              9373 non-null   object \n",
      " 11  overview              10862 non-null  object \n",
      " 12  runtime               10866 non-null  int64  \n",
      " 13  genres                10843 non-null  object \n",
      " 14  production_companies  9836 non-null   object \n",
      " 15  release_date          10866 non-null  object \n",
      " 16  vote_count            10866 non-null  int64  \n",
      " 17  vote_average          10866 non-null  float64\n",
      " 18  release_year          10866 non-null  int64  \n",
      " 19  budget_adj            10866 non-null  float64\n",
      " 20  revenue_adj           10866 non-null  float64\n",
      "dtypes: float64(4), int64(6), object(11)\n",
      "memory usage: 1.7+ MB\n"
     ]
    }
   ],
   "source": [
    "# Basic data information\n",
    "Data.info()"
   ]
  },
  {
   "cell_type": "code",
   "execution_count": 188,
   "id": "7f66b819",
   "metadata": {},
   "outputs": [
    {
     "data": {
      "text/html": [
       "<div>\n",
       "<style scoped>\n",
       "    .dataframe tbody tr th:only-of-type {\n",
       "        vertical-align: middle;\n",
       "    }\n",
       "\n",
       "    .dataframe tbody tr th {\n",
       "        vertical-align: top;\n",
       "    }\n",
       "\n",
       "    .dataframe thead th {\n",
       "        text-align: right;\n",
       "    }\n",
       "</style>\n",
       "<table border=\"1\" class=\"dataframe\">\n",
       "  <thead>\n",
       "    <tr style=\"text-align: right;\">\n",
       "      <th></th>\n",
       "      <th>id</th>\n",
       "      <th>popularity</th>\n",
       "      <th>budget</th>\n",
       "      <th>revenue</th>\n",
       "      <th>runtime</th>\n",
       "      <th>vote_count</th>\n",
       "      <th>vote_average</th>\n",
       "      <th>release_year</th>\n",
       "      <th>budget_adj</th>\n",
       "      <th>revenue_adj</th>\n",
       "    </tr>\n",
       "  </thead>\n",
       "  <tbody>\n",
       "    <tr>\n",
       "      <th>count</th>\n",
       "      <td>10866.000000</td>\n",
       "      <td>10866.000000</td>\n",
       "      <td>1.086600e+04</td>\n",
       "      <td>1.086600e+04</td>\n",
       "      <td>10866.000000</td>\n",
       "      <td>10866.000000</td>\n",
       "      <td>10866.000000</td>\n",
       "      <td>10866.000000</td>\n",
       "      <td>1.086600e+04</td>\n",
       "      <td>1.086600e+04</td>\n",
       "    </tr>\n",
       "    <tr>\n",
       "      <th>mean</th>\n",
       "      <td>66064.177434</td>\n",
       "      <td>0.646441</td>\n",
       "      <td>1.462570e+07</td>\n",
       "      <td>3.982332e+07</td>\n",
       "      <td>102.070863</td>\n",
       "      <td>217.389748</td>\n",
       "      <td>5.974922</td>\n",
       "      <td>2001.322658</td>\n",
       "      <td>1.755104e+07</td>\n",
       "      <td>5.136436e+07</td>\n",
       "    </tr>\n",
       "    <tr>\n",
       "      <th>std</th>\n",
       "      <td>92130.136561</td>\n",
       "      <td>1.000185</td>\n",
       "      <td>3.091321e+07</td>\n",
       "      <td>1.170035e+08</td>\n",
       "      <td>31.381405</td>\n",
       "      <td>575.619058</td>\n",
       "      <td>0.935142</td>\n",
       "      <td>12.812941</td>\n",
       "      <td>3.430616e+07</td>\n",
       "      <td>1.446325e+08</td>\n",
       "    </tr>\n",
       "    <tr>\n",
       "      <th>min</th>\n",
       "      <td>5.000000</td>\n",
       "      <td>0.000065</td>\n",
       "      <td>0.000000e+00</td>\n",
       "      <td>0.000000e+00</td>\n",
       "      <td>0.000000</td>\n",
       "      <td>10.000000</td>\n",
       "      <td>1.500000</td>\n",
       "      <td>1960.000000</td>\n",
       "      <td>0.000000e+00</td>\n",
       "      <td>0.000000e+00</td>\n",
       "    </tr>\n",
       "    <tr>\n",
       "      <th>25%</th>\n",
       "      <td>10596.250000</td>\n",
       "      <td>0.207583</td>\n",
       "      <td>0.000000e+00</td>\n",
       "      <td>0.000000e+00</td>\n",
       "      <td>90.000000</td>\n",
       "      <td>17.000000</td>\n",
       "      <td>5.400000</td>\n",
       "      <td>1995.000000</td>\n",
       "      <td>0.000000e+00</td>\n",
       "      <td>0.000000e+00</td>\n",
       "    </tr>\n",
       "    <tr>\n",
       "      <th>50%</th>\n",
       "      <td>20669.000000</td>\n",
       "      <td>0.383856</td>\n",
       "      <td>0.000000e+00</td>\n",
       "      <td>0.000000e+00</td>\n",
       "      <td>99.000000</td>\n",
       "      <td>38.000000</td>\n",
       "      <td>6.000000</td>\n",
       "      <td>2006.000000</td>\n",
       "      <td>0.000000e+00</td>\n",
       "      <td>0.000000e+00</td>\n",
       "    </tr>\n",
       "    <tr>\n",
       "      <th>75%</th>\n",
       "      <td>75610.000000</td>\n",
       "      <td>0.713817</td>\n",
       "      <td>1.500000e+07</td>\n",
       "      <td>2.400000e+07</td>\n",
       "      <td>111.000000</td>\n",
       "      <td>145.750000</td>\n",
       "      <td>6.600000</td>\n",
       "      <td>2011.000000</td>\n",
       "      <td>2.085325e+07</td>\n",
       "      <td>3.369710e+07</td>\n",
       "    </tr>\n",
       "    <tr>\n",
       "      <th>max</th>\n",
       "      <td>417859.000000</td>\n",
       "      <td>32.985763</td>\n",
       "      <td>4.250000e+08</td>\n",
       "      <td>2.781506e+09</td>\n",
       "      <td>900.000000</td>\n",
       "      <td>9767.000000</td>\n",
       "      <td>9.200000</td>\n",
       "      <td>2015.000000</td>\n",
       "      <td>4.250000e+08</td>\n",
       "      <td>2.827124e+09</td>\n",
       "    </tr>\n",
       "  </tbody>\n",
       "</table>\n",
       "</div>"
      ],
      "text/plain": [
       "                  id    popularity        budget       revenue       runtime  \\\n",
       "count   10866.000000  10866.000000  1.086600e+04  1.086600e+04  10866.000000   \n",
       "mean    66064.177434      0.646441  1.462570e+07  3.982332e+07    102.070863   \n",
       "std     92130.136561      1.000185  3.091321e+07  1.170035e+08     31.381405   \n",
       "min         5.000000      0.000065  0.000000e+00  0.000000e+00      0.000000   \n",
       "25%     10596.250000      0.207583  0.000000e+00  0.000000e+00     90.000000   \n",
       "50%     20669.000000      0.383856  0.000000e+00  0.000000e+00     99.000000   \n",
       "75%     75610.000000      0.713817  1.500000e+07  2.400000e+07    111.000000   \n",
       "max    417859.000000     32.985763  4.250000e+08  2.781506e+09    900.000000   \n",
       "\n",
       "         vote_count  vote_average  release_year    budget_adj   revenue_adj  \n",
       "count  10866.000000  10866.000000  10866.000000  1.086600e+04  1.086600e+04  \n",
       "mean     217.389748      5.974922   2001.322658  1.755104e+07  5.136436e+07  \n",
       "std      575.619058      0.935142     12.812941  3.430616e+07  1.446325e+08  \n",
       "min       10.000000      1.500000   1960.000000  0.000000e+00  0.000000e+00  \n",
       "25%       17.000000      5.400000   1995.000000  0.000000e+00  0.000000e+00  \n",
       "50%       38.000000      6.000000   2006.000000  0.000000e+00  0.000000e+00  \n",
       "75%      145.750000      6.600000   2011.000000  2.085325e+07  3.369710e+07  \n",
       "max     9767.000000      9.200000   2015.000000  4.250000e+08  2.827124e+09  "
      ]
     },
     "execution_count": 188,
     "metadata": {},
     "output_type": "execute_result"
    }
   ],
   "source": [
    "# this will generate statistics summary\n",
    "Data.describe()"
   ]
  },
  {
   "cell_type": "markdown",
   "id": "d35b2166",
   "metadata": {},
   "source": [
    "#### Check Duplicates"
   ]
  },
  {
   "cell_type": "code",
   "execution_count": 189,
   "id": "4058b962",
   "metadata": {},
   "outputs": [
    {
     "data": {
      "text/plain": [
       "1"
      ]
     },
     "execution_count": 189,
     "metadata": {},
     "output_type": "execute_result"
    }
   ],
   "source": [
    "#Number of Dublicates\n",
    "Data.duplicated().sum()"
   ]
  },
  {
   "cell_type": "code",
   "execution_count": 190,
   "id": "ea3dc1b0",
   "metadata": {},
   "outputs": [],
   "source": [
    "#Look for the dulticate rows in table and\n",
    "Data.drop_duplicates(inplace =True)"
   ]
  },
  {
   "cell_type": "markdown",
   "id": "6a382a69",
   "metadata": {},
   "source": [
    "#### Handle Missing Values"
   ]
  },
  {
   "cell_type": "code",
   "execution_count": 191,
   "id": "667820c0",
   "metadata": {},
   "outputs": [
    {
     "data": {
      "text/plain": [
       "id                       0.000000\n",
       "imdb_id                  0.092039\n",
       "popularity               0.000000\n",
       "budget                   0.000000\n",
       "revenue                  0.000000\n",
       "original_title           0.000000\n",
       "cast                     0.699494\n",
       "homepage                72.977451\n",
       "director                 0.404970\n",
       "tagline                 25.991717\n",
       "keywords                13.741371\n",
       "overview                 0.036815\n",
       "runtime                  0.000000\n",
       "genres                   0.211689\n",
       "production_companies     9.479982\n",
       "release_date             0.000000\n",
       "vote_count               0.000000\n",
       "vote_average             0.000000\n",
       "release_year             0.000000\n",
       "budget_adj               0.000000\n",
       "revenue_adj              0.000000\n",
       "dtype: float64"
      ]
     },
     "execution_count": 191,
     "metadata": {},
     "output_type": "execute_result"
    }
   ],
   "source": [
    "# Find Missing values using is null\n",
    "Data.isnull().sum()/len(Data)*100"
   ]
  },
  {
   "cell_type": "markdown",
   "id": "26a9c9d8",
   "metadata": {},
   "source": [
    "We can drop homepage, tagline and keyword all 4 contains null values which we are not going to use in visualization.<br/>\n",
    "Also we can drop imdb_id, budget_adj, revenue_adj and overview which we won't use in analysis."
   ]
  },
  {
   "cell_type": "markdown",
   "id": "bb6d61d3",
   "metadata": {},
   "source": [
    "### To see distribution of all columns"
   ]
  },
  {
   "cell_type": "code",
   "execution_count": 192,
   "id": "a76d56a5",
   "metadata": {},
   "outputs": [
    {
     "data": {
      "image/png": "[encoded data removed]",
      "text/plain": [
       "<Figure size 1080x1080 with 12 Axes>"
      ]
     },
     "metadata": {
      "needs_background": "light"
     },
     "output_type": "display_data"
    }
   ],
   "source": [
    "Data.hist(figsize = (15,15));"
   ]
  },
  {
   "cell_type": "markdown",
   "id": "19aea509",
   "metadata": {},
   "source": [
    "**Observation :** <br/>\n",
    "Now we have a histogram of each variable. <br/>\n",
    "As 'id', 'imdb_id', 'budget_adj' and 'revenue_adj' we won't used even in most of the places have null values which can effect output 'homepage','tagline','keywords','overview' and 'production_companies'we can drop too that we are not going to use."
   ]
  },
  {
   "cell_type": "markdown",
   "id": "5dceb882",
   "metadata": {},
   "source": [
    "### Drop Columns"
   ]
  },
  {
   "cell_type": "markdown",
   "id": "897c5915",
   "metadata": {},
   "source": [
    "Remove the unused colums that are not needed in the analysis process as we shown on top."
   ]
  },
  {
   "cell_type": "code",
   "execution_count": 193,
   "id": "867c2f90",
   "metadata": {},
   "outputs": [],
   "source": [
    "# Using drop we can remove those columns\n",
    "Data.drop(['id','imdb_id','homepage','tagline','keywords','overview','production_companies','revenue_adj','budget_adj' ], axis=1, inplace=True)"
   ]
  },
  {
   "cell_type": "code",
   "execution_count": 194,
   "id": "a4611667",
   "metadata": {},
   "outputs": [
    {
     "data": {
      "text/html": [
       "<div>\n",
       "<style scoped>\n",
       "    .dataframe tbody tr th:only-of-type {\n",
       "        vertical-align: middle;\n",
       "    }\n",
       "\n",
       "    .dataframe tbody tr th {\n",
       "        vertical-align: top;\n",
       "    }\n",
       "\n",
       "    .dataframe thead th {\n",
       "        text-align: right;\n",
       "    }\n",
       "</style>\n",
       "<table border=\"1\" class=\"dataframe\">\n",
       "  <thead>\n",
       "    <tr style=\"text-align: right;\">\n",
       "      <th></th>\n",
       "      <th>popularity</th>\n",
       "      <th>budget</th>\n",
       "      <th>revenue</th>\n",
       "      <th>original_title</th>\n",
       "      <th>cast</th>\n",
       "      <th>director</th>\n",
       "      <th>runtime</th>\n",
       "      <th>genres</th>\n",
       "      <th>release_date</th>\n",
       "      <th>vote_count</th>\n",
       "      <th>vote_average</th>\n",
       "      <th>release_year</th>\n",
       "    </tr>\n",
       "  </thead>\n",
       "  <tbody>\n",
       "    <tr>\n",
       "      <th>0</th>\n",
       "      <td>32.985763</td>\n",
       "      <td>150000000</td>\n",
       "      <td>1513528810</td>\n",
       "      <td>Jurassic World</td>\n",
       "      <td>Chris Pratt|Bryce Dallas Howard|Irrfan Khan|Vi...</td>\n",
       "      <td>Colin Trevorrow</td>\n",
       "      <td>124</td>\n",
       "      <td>Action|Adventure|Science Fiction|Thriller</td>\n",
       "      <td>6/9/15</td>\n",
       "      <td>5562</td>\n",
       "      <td>6.5</td>\n",
       "      <td>2015</td>\n",
       "    </tr>\n",
       "    <tr>\n",
       "      <th>1</th>\n",
       "      <td>28.419936</td>\n",
       "      <td>150000000</td>\n",
       "      <td>378436354</td>\n",
       "      <td>Mad Max: Fury Road</td>\n",
       "      <td>Tom Hardy|Charlize Theron|Hugh Keays-Byrne|Nic...</td>\n",
       "      <td>George Miller</td>\n",
       "      <td>120</td>\n",
       "      <td>Action|Adventure|Science Fiction|Thriller</td>\n",
       "      <td>5/13/15</td>\n",
       "      <td>6185</td>\n",
       "      <td>7.1</td>\n",
       "      <td>2015</td>\n",
       "    </tr>\n",
       "    <tr>\n",
       "      <th>2</th>\n",
       "      <td>13.112507</td>\n",
       "      <td>110000000</td>\n",
       "      <td>295238201</td>\n",
       "      <td>Insurgent</td>\n",
       "      <td>Shailene Woodley|Theo James|Kate Winslet|Ansel...</td>\n",
       "      <td>Robert Schwentke</td>\n",
       "      <td>119</td>\n",
       "      <td>Adventure|Science Fiction|Thriller</td>\n",
       "      <td>3/18/15</td>\n",
       "      <td>2480</td>\n",
       "      <td>6.3</td>\n",
       "      <td>2015</td>\n",
       "    </tr>\n",
       "    <tr>\n",
       "      <th>3</th>\n",
       "      <td>11.173104</td>\n",
       "      <td>200000000</td>\n",
       "      <td>2068178225</td>\n",
       "      <td>Star Wars: The Force Awakens</td>\n",
       "      <td>Harrison Ford|Mark Hamill|Carrie Fisher|Adam D...</td>\n",
       "      <td>J.J. Abrams</td>\n",
       "      <td>136</td>\n",
       "      <td>Action|Adventure|Science Fiction|Fantasy</td>\n",
       "      <td>12/15/15</td>\n",
       "      <td>5292</td>\n",
       "      <td>7.5</td>\n",
       "      <td>2015</td>\n",
       "    </tr>\n",
       "    <tr>\n",
       "      <th>4</th>\n",
       "      <td>9.335014</td>\n",
       "      <td>190000000</td>\n",
       "      <td>1506249360</td>\n",
       "      <td>Furious 7</td>\n",
       "      <td>Vin Diesel|Paul Walker|Jason Statham|Michelle ...</td>\n",
       "      <td>James Wan</td>\n",
       "      <td>137</td>\n",
       "      <td>Action|Crime|Thriller</td>\n",
       "      <td>4/1/15</td>\n",
       "      <td>2947</td>\n",
       "      <td>7.3</td>\n",
       "      <td>2015</td>\n",
       "    </tr>\n",
       "  </tbody>\n",
       "</table>\n",
       "</div>"
      ],
      "text/plain": [
       "   popularity     budget     revenue                original_title  \\\n",
       "0   32.985763  150000000  1513528810                Jurassic World   \n",
       "1   28.419936  150000000   378436354            Mad Max: Fury Road   \n",
       "2   13.112507  110000000   295238201                     Insurgent   \n",
       "3   11.173104  200000000  2068178225  Star Wars: The Force Awakens   \n",
       "4    9.335014  190000000  1506249360                     Furious 7   \n",
       "\n",
       "                                                cast          director  \\\n",
       "0  Chris Pratt|Bryce Dallas Howard|Irrfan Khan|Vi...   Colin Trevorrow   \n",
       "1  Tom Hardy|Charlize Theron|Hugh Keays-Byrne|Nic...     George Miller   \n",
       "2  Shailene Woodley|Theo James|Kate Winslet|Ansel...  Robert Schwentke   \n",
       "3  Harrison Ford|Mark Hamill|Carrie Fisher|Adam D...       J.J. Abrams   \n",
       "4  Vin Diesel|Paul Walker|Jason Statham|Michelle ...         James Wan   \n",
       "\n",
       "   runtime                                     genres release_date  \\\n",
       "0      124  Action|Adventure|Science Fiction|Thriller       6/9/15   \n",
       "1      120  Action|Adventure|Science Fiction|Thriller      5/13/15   \n",
       "2      119         Adventure|Science Fiction|Thriller      3/18/15   \n",
       "3      136   Action|Adventure|Science Fiction|Fantasy     12/15/15   \n",
       "4      137                      Action|Crime|Thriller       4/1/15   \n",
       "\n",
       "   vote_count  vote_average  release_year  \n",
       "0        5562           6.5          2015  \n",
       "1        6185           7.1          2015  \n",
       "2        2480           6.3          2015  \n",
       "3        5292           7.5          2015  \n",
       "4        2947           7.3          2015  "
      ]
     },
     "execution_count": 194,
     "metadata": {},
     "output_type": "execute_result"
    }
   ],
   "source": [
    "# After droping which columns are left\n",
    "Data.head()"
   ]
  },
  {
   "cell_type": "code",
   "execution_count": 195,
   "id": "407a3742",
   "metadata": {},
   "outputs": [],
   "source": [
    "# We can calculated column profit using revenue and budget \n",
    "Data['profit'] = Data['revenue'] - Data['budget']"
   ]
  },
  {
   "cell_type": "markdown",
   "id": "a113f78d",
   "metadata": {},
   "source": [
    "## Exploratory Data Analysis\n"
   ]
  },
  {
   "cell_type": "markdown",
   "id": "33c8db12",
   "metadata": {},
   "source": [
    "### Question 1: Top 10 movies which has earned highest profit?"
   ]
  },
  {
   "cell_type": "code",
   "execution_count": 196,
   "id": "5233e9fa",
   "metadata": {},
   "outputs": [],
   "source": [
    "#Top 10 movies which earn highest profit\n",
    "#Asecending should be false to show top\n",
    "Data_info = pd.DataFrame(Data['profit'].sort_values(ascending = False))\n",
    "\n",
    "#Create new data frame to load data\n",
    "Data_info['original_title'] = Data['original_title']\n"
   ]
  },
  {
   "cell_type": "code",
   "execution_count": 168,
   "id": "804bce41",
   "metadata": {},
   "outputs": [],
   "source": [
    "data = Data_info['original_title']\n",
    "\n",
    "#fetch top 10 data and convert into a list\n",
    "x = list(data[:10])\n",
    "y = list(Data_info['profit'][:10])"
   ]
  },
  {
   "cell_type": "code",
   "execution_count": 169,
   "id": "fffeda72",
   "metadata": {},
   "outputs": [
    {
     "data": {
      "text/plain": [
       "Text(0, 0.5, 'Movie Name')"
      ]
     },
     "execution_count": 169,
     "metadata": {},
     "output_type": "execute_result"
    },
    {
     "data": {
      "image/png": "[encoded data removed]",
      "text/plain": [
       "<Figure size 432x288 with 1 Axes>"
      ]
     },
     "metadata": {
      "needs_background": "light"
     },
     "output_type": "display_data"
    }
   ],
   "source": [
    "# Used barplot top show data with orange bars\n",
    "axis = sns.barplot(x=y,y=x,color = 'orange')\n",
    "\n",
    "#Give labels to axis\n",
    "axis.set_title(\"Top 10 Movies\",fontsize = 16)\n",
    "axis.set_xlabel(\"Profit\",fontsize = 13)\n",
    "axis.set_ylabel(\"Movie Name\",fontsize = 13)"
   ]
  },
  {
   "cell_type": "markdown",
   "id": "e100152d",
   "metadata": {},
   "source": [
    "**Observation :** Top 5 Movies which have highest profit Avatar, Star Wars: The Force Awakens, Titanic, Jurassic World and Furious 7"
   ]
  },
  {
   "cell_type": "markdown",
   "id": "6d57042d",
   "metadata": {},
   "source": [
    "### Question 2: Top 10 movies with highest revenue?"
   ]
  },
  {
   "cell_type": "code",
   "execution_count": 197,
   "id": "3e82c577",
   "metadata": {},
   "outputs": [],
   "source": [
    "#Top 10 movies which earn highest revenue\n",
    "#Asecending should be false to show top\n",
    "Data_info = pd.DataFrame(Data['revenue'].sort_values(ascending = False))\n",
    "\n",
    "#Create new data frame to load data\n",
    "Data_info['original_title'] = Data['original_title']\n",
    "data = Data_info['original_title']\n",
    "\n",
    "#fetch top 10 data and convert into a list\n",
    "\n",
    "x = list(data[:10])\n",
    "y = list(Data_info['revenue'][:10])\n"
   ]
  },
  {
   "cell_type": "code",
   "execution_count": 198,
   "id": "d7a6b73b",
   "metadata": {},
   "outputs": [
    {
     "data": {
      "text/plain": [
       "Text(0, 0.5, 'Movie Name')"
      ]
     },
     "execution_count": 198,
     "metadata": {},
     "output_type": "execute_result"
    },
    {
     "data": {
      "image/png": "[encoded data removed]",
      "text/plain": [
       "<Figure size 432x288 with 1 Axes>"
      ]
     },
     "metadata": {
      "needs_background": "light"
     },
     "output_type": "display_data"
    }
   ],
   "source": [
    "# Used barplot top show data with orange bars\n",
    "axis = sns.barplot(x=y,y=x,color = 'orange')\n",
    "\n",
    "#Give labels to axis\n",
    "axis.set_title(\"Top 10 Movies\",fontsize = 16)\n",
    "axis.set_xlabel(\"Revenue\",fontsize = 13)\n",
    "axis.set_ylabel(\"Movie Name\",fontsize = 13)"
   ]
  },
  {
   "cell_type": "markdown",
   "id": "160839ca",
   "metadata": {},
   "source": [
    "**Observation :** Top 5 Movies which have got higher revenue Avatar, Star Wars: The Force Awakens, Titanic,The Avengers and Jurassic World."
   ]
  },
  {
   "cell_type": "markdown",
   "id": "63bfd84d",
   "metadata": {},
   "source": [
    "### Question 3: Top 10 movies with highest Budget?"
   ]
  },
  {
   "cell_type": "code",
   "execution_count": 199,
   "id": "ad6b3df0",
   "metadata": {},
   "outputs": [],
   "source": [
    "#Top 10 movies movies with high budget \n",
    "#Asecending should be false to show top\n",
    "Data_info = pd.DataFrame(Data['budget'].sort_values(ascending = False))\n",
    "\n",
    "#Create new data frame to load data\n",
    "Data_info['original_title'] = Data['original_title']\n",
    "data = Data_info['original_title']\n",
    "\n",
    "#fetch top 10 data and convert into a list\n",
    "\n",
    "x = list(data[:10])\n",
    "y = list(Data_info['budget'][:10])\n"
   ]
  },
  {
   "cell_type": "code",
   "execution_count": 200,
   "id": "32c898c6",
   "metadata": {
    "scrolled": true
   },
   "outputs": [
    {
     "data": {
      "text/plain": [
       "Text(0, 0.5, 'Movie Name')"
      ]
     },
     "execution_count": 200,
     "metadata": {},
     "output_type": "execute_result"
    },
    {
     "data": {
      "image/png": "[encoded data removed]",
      "text/plain": [
       "<Figure size 432x288 with 1 Axes>"
      ]
     },
     "metadata": {
      "needs_background": "light"
     },
     "output_type": "display_data"
    }
   ],
   "source": [
    "# Used barplot top show data with orange bars\n",
    "axis = sns.barplot(x=y,y=x,color = 'orange')\n",
    "\n",
    "#Give labels to axis\n",
    "axis.set_title(\"Top 10 Movies\",fontsize = 16)\n",
    "axis.set_xlabel(\"Budget\",fontsize = 13)\n",
    "axis.set_ylabel(\"Movie Name\",fontsize = 13)"
   ]
  },
  {
   "cell_type": "markdown",
   "id": "475a1d9b",
   "metadata": {},
   "source": [
    "**Observation :** Top 5 Movies with highest budget The Warrior's Way, Pirates of the Caribbean: On Stranger Tides and At World's End, Avengers: Age of Ultron and Superman Returns."
   ]
  },
  {
   "cell_type": "markdown",
   "id": "3a7ad6ea",
   "metadata": {},
   "source": [
    "\n",
    "### Question 4: Which movie has highest profit for all years?"
   ]
  },
  {
   "cell_type": "code",
   "execution_count": 201,
   "id": "e942b4ec",
   "metadata": {},
   "outputs": [
    {
     "name": "stdout",
     "output_type": "stream",
     "text": [
      "release_year\n",
      "2011    14677437926\n",
      "2012    16394344772\n",
      "2013    15467594656\n",
      "2014    16407160045\n",
      "2015    19165902961\n",
      "Name: profit, dtype: int64\n"
     ]
    },
    {
     "data": {
      "image/png": "[encoded data removed]",
      "text/plain": [
       "<Figure size 432x288 with 1 Axes>"
      ]
     },
     "metadata": {
      "needs_background": "light"
     },
     "output_type": "display_data"
    }
   ],
   "source": [
    "# make group for each year and sum profit of movies per year \n",
    "data=Data.groupby('release_year')['profit'].sum()\n",
    "\n",
    "#Find top 5 by each years from buttom\n",
    "print(data.tail())\n",
    "\n",
    "#make group of the data according to their release year and count the total number of movies in each year and pot.\n",
    "Data.groupby('release_year')['profit'].sum().plot()\n",
    "\n",
    "#set the font size and labels\n",
    "plt.title(\"Profit earned by year\",fontsize = 14)\n",
    "plt.xlabel('Release year',fontsize = 13)\n",
    "plt.ylabel('Profit',fontsize = 13)\n",
    "\n",
    "#set the style sheet\n",
    "sns.set_style(\"whitegrid\")"
   ]
  },
  {
   "cell_type": "markdown",
   "id": "fae5ac2c",
   "metadata": {},
   "source": [
    "**Observation :** After Seeing the plot and the output we can conclude that year 2015 year has the highest release of movies.\n"
   ]
  },
  {
   "cell_type": "markdown",
   "id": "da2cc7f7",
   "metadata": {},
   "source": [
    "### Question 5: Which movie has highest budget for all years?"
   ]
  },
  {
   "cell_type": "code",
   "execution_count": 202,
   "id": "7dabd869",
   "metadata": {},
   "outputs": [
    {
     "data": {
      "image/png": "[encoded data removed]",
      "text/plain": [
       "<Figure size 432x288 with 1 Axes>"
      ]
     },
     "metadata": {},
     "output_type": "display_data"
    }
   ],
   "source": [
    "#make group of the data according to their release year and count the total number of movies in each year and pot.\n",
    "Data.groupby('release_year')['budget'].sum().plot()\n",
    "\n",
    "#set the font size and labels\n",
    "plt.title(\"Budget by year\",fontsize = 14)\n",
    "plt.xlabel('Release year',fontsize = 13)\n",
    "plt.ylabel('Profit',fontsize = 13)\n",
    "\n",
    "#set the style sheet\n",
    "sns.set_style(\"whitegrid\")"
   ]
  },
  {
   "cell_type": "markdown",
   "id": "cd148287",
   "metadata": {},
   "source": [
    "**Observation :** After Seeing the plot and the output we can conclude that year 2014 year has the highest release of movies.\n"
   ]
  },
  {
   "cell_type": "markdown",
   "id": "50b804a5",
   "metadata": {},
   "source": [
    "### Question 6: Average runtime?"
   ]
  },
  {
   "cell_type": "markdown",
   "id": "85d3c200",
   "metadata": {},
   "source": [
    "Calculate Average runtime using mean function"
   ]
  },
  {
   "cell_type": "code",
   "execution_count": 203,
   "id": "07f2832b",
   "metadata": {},
   "outputs": [
    {
     "data": {
      "text/plain": [
       "102.07179015186378"
      ]
     },
     "execution_count": 203,
     "metadata": {},
     "output_type": "execute_result"
    }
   ],
   "source": [
    "# Use meam to get average value of that column\n",
    "Data['runtime'].mean()"
   ]
  },
  {
   "cell_type": "markdown",
   "id": "eb2f038e",
   "metadata": {},
   "source": [
    "### Question 7: Average Budget?"
   ]
  },
  {
   "cell_type": "code",
   "execution_count": 204,
   "id": "e7162dd3",
   "metadata": {},
   "outputs": [
    {
     "data": {
      "text/plain": [
       "25202610.01251726"
      ]
     },
     "execution_count": 204,
     "metadata": {},
     "output_type": "execute_result"
    }
   ],
   "source": [
    "Data['profit'].mean()"
   ]
  },
  {
   "cell_type": "markdown",
   "id": "9cc4117d",
   "metadata": {},
   "source": [
    "### Question 8: Average Revenue?"
   ]
  },
  {
   "cell_type": "code",
   "execution_count": 205,
   "id": "b0410b64",
   "metadata": {},
   "outputs": [
    {
     "data": {
      "text/plain": [
       "39826896.07685228"
      ]
     },
     "execution_count": 205,
     "metadata": {},
     "output_type": "execute_result"
    }
   ],
   "source": [
    "Data['revenue'].mean()"
   ]
  },
  {
   "cell_type": "markdown",
   "id": "a7cf7efa",
   "metadata": {},
   "source": [
    "### Question 9: Maximum revenue movie data?"
   ]
  },
  {
   "cell_type": "code",
   "execution_count": 206,
   "id": "43436e52",
   "metadata": {},
   "outputs": [
    {
     "data": {
      "text/html": [
       "<div>\n",
       "<style scoped>\n",
       "    .dataframe tbody tr th:only-of-type {\n",
       "        vertical-align: middle;\n",
       "    }\n",
       "\n",
       "    .dataframe tbody tr th {\n",
       "        vertical-align: top;\n",
       "    }\n",
       "\n",
       "    .dataframe thead th {\n",
       "        text-align: right;\n",
       "    }\n",
       "</style>\n",
       "<table border=\"1\" class=\"dataframe\">\n",
       "  <thead>\n",
       "    <tr style=\"text-align: right;\">\n",
       "      <th></th>\n",
       "      <th>popularity</th>\n",
       "      <th>budget</th>\n",
       "      <th>revenue</th>\n",
       "      <th>original_title</th>\n",
       "      <th>cast</th>\n",
       "      <th>director</th>\n",
       "      <th>runtime</th>\n",
       "      <th>genres</th>\n",
       "      <th>release_date</th>\n",
       "      <th>vote_count</th>\n",
       "      <th>vote_average</th>\n",
       "      <th>release_year</th>\n",
       "      <th>profit</th>\n",
       "    </tr>\n",
       "  </thead>\n",
       "  <tbody>\n",
       "    <tr>\n",
       "      <th>1386</th>\n",
       "      <td>9.432768</td>\n",
       "      <td>237000000</td>\n",
       "      <td>2781505847</td>\n",
       "      <td>Avatar</td>\n",
       "      <td>Sam Worthington|Zoe Saldana|Sigourney Weaver|S...</td>\n",
       "      <td>James Cameron</td>\n",
       "      <td>162</td>\n",
       "      <td>Action|Adventure|Fantasy|Science Fiction</td>\n",
       "      <td>12/10/09</td>\n",
       "      <td>8458</td>\n",
       "      <td>7.1</td>\n",
       "      <td>2009</td>\n",
       "      <td>2544505847</td>\n",
       "    </tr>\n",
       "  </tbody>\n",
       "</table>\n",
       "</div>"
      ],
      "text/plain": [
       "      popularity     budget     revenue original_title  \\\n",
       "1386    9.432768  237000000  2781505847         Avatar   \n",
       "\n",
       "                                                   cast       director  \\\n",
       "1386  Sam Worthington|Zoe Saldana|Sigourney Weaver|S...  James Cameron   \n",
       "\n",
       "      runtime                                    genres release_date  \\\n",
       "1386      162  Action|Adventure|Fantasy|Science Fiction     12/10/09   \n",
       "\n",
       "      vote_count  vote_average  release_year      profit  \n",
       "1386        8458           7.1          2009  2544505847  "
      ]
     },
     "execution_count": 206,
     "metadata": {},
     "output_type": "execute_result"
    }
   ],
   "source": [
    "Data.sort_values('revenue').tail(1)"
   ]
  },
  {
   "cell_type": "markdown",
   "id": "8d3c68f1",
   "metadata": {},
   "source": [
    "Need to split where '|' is there"
   ]
  },
  {
   "cell_type": "code",
   "execution_count": 207,
   "id": "fcd991bb",
   "metadata": {},
   "outputs": [],
   "source": [
    "\n",
    "def Value(value):\n",
    "    #Separate the string by '|'\n",
    "    data = Data[value].str.cat(sep = '|')\n",
    "    data = pd.Series(data.split('|'))\n",
    "    \n",
    "    #arranging in descending order\n",
    "    count = data.value_counts(ascending = True)\n",
    "    \n",
    "    return count"
   ]
  },
  {
   "cell_type": "markdown",
   "id": "66c4eddd",
   "metadata": {},
   "source": [
    "### Question 10: Find top and buttom casts, directors and genres according to movie?\n",
    "### Top Geners"
   ]
  },
  {
   "cell_type": "code",
   "execution_count": 208,
   "id": "8a575156",
   "metadata": {},
   "outputs": [
    {
     "name": "stdout",
     "output_type": "stream",
     "text": [
      "Top 5 Genres\n",
      "Romance     1712\n",
      "Action      2384\n",
      "Thriller    2907\n",
      "Comedy      3793\n",
      "Drama       4760\n",
      "dtype: int64\n",
      "Buttom 5 Genres\n",
      "Western     165\n",
      "TV Movie    167\n",
      "Foreign     188\n",
      "War         270\n",
      "History     334\n",
      "dtype: int64\n"
     ]
    },
    {
     "data": {
      "image/png": "[encoded data removed]",
      "text/plain": [
       "<Figure size 432x288 with 1 Axes>"
      ]
     },
     "metadata": {},
     "output_type": "display_data"
    }
   ],
   "source": [
    "# Call top function to Separate the string by '|' to find exact genres name\n",
    "Genres_value = Value('genres')\n",
    "\n",
    "# Plot top 10 genres in chart\n",
    "Genres_value.sort_values(ascending=0)[:10].plot(kind='bar')\n",
    "\n",
    "#set the figure size and labels\n",
    "plt.title(\"Top 10 Geners\",fontsize =16)\n",
    "plt.xlabel(\"Geners\",fontsize =12)\n",
    "plt.ylabel(\"Count\",fontsize =12)\n",
    "\n",
    "# Print top 5 and Buttom genres\n",
    "print(\"Top 5 Genres\")\n",
    "print(Genres_value.tail())\n",
    "print(\"Buttom 5 Genres\")\n",
    "print(Genres_value.head())"
   ]
  },
  {
   "cell_type": "markdown",
   "id": "c659d5d1",
   "metadata": {},
   "source": [
    "**Observation :** Darma is created more than other type of genres and western as less than all others."
   ]
  },
  {
   "cell_type": "markdown",
   "id": "d1e8e9d3",
   "metadata": {},
   "source": [
    "### Top Cast"
   ]
  },
  {
   "cell_type": "code",
   "execution_count": 209,
   "id": "9db06389",
   "metadata": {},
   "outputs": [
    {
     "name": "stdout",
     "output_type": "stream",
     "text": [
      "Top 5 Cast\n",
      "Michael Caine        53\n",
      "Nicolas Cage         61\n",
      "Bruce Willis         62\n",
      "Samuel L. Jackson    71\n",
      "Robert De Niro       72\n",
      "dtype: int64\n",
      "Buttom 5 Cast\n",
      "Danny Nucci              1\n",
      "Katie Maguire            1\n",
      "Catherine A. Callahan    1\n",
      "Marie Maser              1\n",
      "Kayla Lian               1\n",
      "dtype: int64\n"
     ]
    },
    {
     "data": {
      "image/png": "[encoded data removed]",
      "text/plain": [
       "<Figure size 432x288 with 1 Axes>"
      ]
     },
     "metadata": {},
     "output_type": "display_data"
    }
   ],
   "source": [
    "# Call top function to Separate the string by '|' to find exact cast name\n",
    "Cast_value = Value('cast')\n",
    "\n",
    "# Plot top 10 Cast in chart\n",
    "Cast_value.sort_values(ascending=0)[:10].plot(kind='bar')\n",
    "\n",
    "#set the figure size and labels\n",
    "plt.title(\"Top 10 Cast\",fontsize =16)\n",
    "plt.xlabel(\"Cast\",fontsize =12)\n",
    "plt.ylabel(\"Count\",fontsize =12)\n",
    "\n",
    "# Print top 5 and Buttom Cast\n",
    "print(\"Top 5 Cast\")\n",
    "print(Cast_value.tail())\n",
    "print(\"Buttom 5 Cast\")\n",
    "print(Cast_value.head())"
   ]
  },
  {
   "cell_type": "markdown",
   "id": "202ac336",
   "metadata": {},
   "source": [
    "**Observation :** Robert De Niro is created more than other type of cast. <br/> Danny Nucci, Katie Maguire, Catherine A. Callahan, Marie Maser and Kayla Lian as less than others."
   ]
  },
  {
   "cell_type": "markdown",
   "id": "dd2480d1",
   "metadata": {},
   "source": [
    "### Top Directors"
   ]
  },
  {
   "cell_type": "code",
   "execution_count": 210,
   "id": "ff73d61a",
   "metadata": {
    "scrolled": true
   },
   "outputs": [
    {
     "name": "stdout",
     "output_type": "stream",
     "text": [
      "Top 5 Director\n",
      "Steven Soderbergh    23\n",
      "Steven Spielberg     30\n",
      "Martin Scorsese      31\n",
      "Clint Eastwood       34\n",
      "Woody Allen          46\n",
      "dtype: int64\n",
      "Buttom 5 Director\n",
      "Erick Zonca             1\n",
      "Eric Wareheim           1\n",
      "Tim Heidecker           1\n",
      "Bryce Wagoner           1\n",
      "Laurentine Ten Bosch    1\n",
      "dtype: int64\n"
     ]
    },
    {
     "data": {
      "image/png": "[encoded data removed]",
      "text/plain": [
       "<Figure size 432x288 with 1 Axes>"
      ]
     },
     "metadata": {},
     "output_type": "display_data"
    }
   ],
   "source": [
    "# Call top function to Separate the string by '|' to find exact director name\n",
    "Director_value = Value('director')\n",
    "\n",
    "# Plot top 10 Directors in chart\n",
    "Director_value.sort_values(ascending=0)[:10].plot(kind='bar')\n",
    "\n",
    "#set the figure size and labels\n",
    "plt.title(\"Top 10 Directors\",fontsize =16)\n",
    "plt.xlabel(\"Director\",fontsize =12)\n",
    "plt.ylabel(\"Count\",fontsize =12)\n",
    "\n",
    "# Print top 5 and Buttom Directors\n",
    "print(\"Top 5 Director\")\n",
    "print(Director_value.tail())\n",
    "print(\"Buttom 5 Director\")\n",
    "print(Director_value.head())"
   ]
  },
  {
   "cell_type": "markdown",
   "id": "0d9ab985",
   "metadata": {},
   "source": [
    "**Observation :** Woody Allen is created movies more than other Directors. <br/>\n",
    "Erick Zonca, Eric Wareheim, Tim Heidecker, Bryce Wagoner and Laurentine Ten Bosch directed movies less than others."
   ]
  },
  {
   "cell_type": "markdown",
   "id": "693dd229",
   "metadata": {},
   "source": [
    "**Overall for top three charts:** Top 1 Cast, Director and Genres shown below: <br/>\n",
    "**Genre:** Drama <br/>\n",
    "**Cast:** Robert De Niro <br/>\n",
    "**Director:** Steven Spielberg<br/>\n"
   ]
  },
  {
   "cell_type": "markdown",
   "id": "e73dfd84",
   "metadata": {},
   "source": [
    "### Question 11: Popularity and revenue are co-related or not?"
   ]
  },
  {
   "cell_type": "code",
   "execution_count": 211,
   "id": "0aed372c",
   "metadata": {},
   "outputs": [
    {
     "name": "stdout",
     "output_type": "stream",
     "text": [
      "Correlation Between Popularity And revenue :  0.663360281412586\n"
     ]
    },
    {
     "data": {
      "text/plain": [
       "<seaborn.axisgrid.FacetGrid at 0x7f9c21accf10>"
      ]
     },
     "execution_count": 211,
     "metadata": {},
     "output_type": "execute_result"
    },
    {
     "data": {
      "image/png": "[encoded data removed]",
      "text/plain": [
       "<Figure size 360x360 with 1 Axes>"
      ]
     },
     "metadata": {},
     "output_type": "display_data"
    }
   ],
   "source": [
    "# Corr is using to call co relation funtion to check relation between columns \n",
    "data_corr = Data.corr()\n",
    "# Need to provide two column names for which you want to see relation\n",
    "print(\"Correlation Between Popularity And revenue : \",data_corr.loc['revenue','popularity'])\n",
    "\n",
    "# lmplot() funtion used to draw a scatter plot \n",
    "sns.lmplot(x = 'popularity' , y = 'revenue', data = Data).set(title='Revenue Vs Popularity')"
   ]
  },
  {
   "cell_type": "markdown",
   "id": "8bbf9f0c",
   "metadata": {},
   "source": [
    "**Observation :** Revenue and Popularity have positive correlated(0.66) This means when the popularity will increase revenue will generate too."
   ]
  },
  {
   "cell_type": "markdown",
   "id": "f6757625",
   "metadata": {},
   "source": [
    "<a id='conclusions'></a>\n",
    "## Conclusions\n",
    "\n",
    "> 2014 year has the highest movie release.<br/>\n",
    "> Revenue and Popularity have positive correlated(0.66). <br/>\n",
    "> Avatar has highest profit where The Warrior's Way has earned Lowest profit.<br>\n",
    "> Average runtime a movie is 102 minutes. <br/>\n",
    "> Darma is created more than other type of genres and western as less than all others.<br/>\n",
    "> Robert De Niro casted more movies than other type of cast. <br/>\n",
    "> Woody Allen has Director more movies than others. <br/>\n",
    "> Avatar, Star Wars, Titanic, Jurassic World and Furious are the most 5 profitable movies.<br/>\n",
    "> Universal Pictures, Warner Bros and Paramount Pictures production companies created more movies than other production companies.<br/>\n",
    "> Most popular genre is adventure and science fiction. <br/>\n",
    "> Universal Pictures, Warner Bros and Paramount Pictures production companies created more movies than other production companies.<br/>\n",
    "\n",
    "\n",
    "**Limitations :** \n",
    ">There were many rows which contain null values we removed those rows while doing analysis that can affect the overall analysis . <br/>\n",
    "Data in the columns of (Genres have '|' then they are sperated by '|' to extract exact name. Even Directors and Production companies are some where saperated with '|' which i have not used in analysis."
   ]
  },
  {
   "cell_type": "code",
   "execution_count": null,
   "id": "b14d7fd4",
   "metadata": {},
   "outputs": [],
   "source": []
  }
 ],
 "metadata": {
  "kernelspec": {
   "display_name": "Python 3 (ipykernel)",
   "language": "python",
   "name": "python3"
  },
  "language_info": {
   "codemirror_mode": {
    "name": "ipython",
    "version": 3
   },
   "file_extension": ".py",
   "mimetype": "text/x-python",
   "name": "python",
   "nbconvert_exporter": "python",
   "pygments_lexer": "ipython3",
   "version": "3.9.12"
  }
 },
 "nbformat": 4,
 "nbformat_minor": 5
}
